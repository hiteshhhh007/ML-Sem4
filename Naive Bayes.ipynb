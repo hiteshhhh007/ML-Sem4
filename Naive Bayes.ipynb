{
 "cells": [
  {
   "cell_type": "markdown",
   "id": "4b23b3ad",
   "metadata": {},
   "source": [
    "# Import Dependencies"
   ]
  },
  {
   "cell_type": "code",
   "execution_count": 2,
   "id": "65ba24c3",
   "metadata": {},
   "outputs": [],
   "source": [
    "import pandas as pd\n",
    "import numpy as np\n",
    "from sklearn.model_selection import train_test_split\n",
    "from sklearn.naive_bayes import GaussianNB, MultinomialNB, BernoulliNB\n",
    "from sklearn.metrics import confusion_matrix, accuracy_score, classification_report\n",
    "from sklearn.datasets import make_classification"
   ]
  },
  {
   "cell_type": "markdown",
   "id": "03ada789",
   "metadata": {},
   "source": [
    "# Preparing a Sample Dataset\n",
    "### Let's create a simple dataset with a mix of continuous, categorical, and binary features for the examples."
   ]
  },
  {
   "cell_type": "code",
   "execution_count": 3,
   "id": "e5837b00",
   "metadata": {},
   "outputs": [],
   "source": [
    "# Create a dataset with a mix of continuous and categorical data\n",
    "X, y = make_classification(n_samples=100, n_features=4, random_state=42)\n",
    "\n",
    "df = pd.DataFrame(X, columns=[\"Feature1\", \"Feature2\", \"Feature3\", \"Feature4\"])\n",
    "df[\"Target\"] = y\n",
    "\n",
    "# Convert to categorical data for MultinomialNB \n",
    "df[\"Feature2\"] = np.digitize(df[\"Feature2\"], bins=[-3, 0, 3])\n",
    "df[\"Feature3\"] = (df[\"Feature3\"] > 0).astype(int)  # Binary feature for BernoulliNB\n",
    "\n",
    "# Split into training and testing datasets\n",
    "X_train, X_test, y_train, y_test = train_test_split(\n",
    "    df.drop(\"Target\", axis=1), df[\"Target\"], test_size=0.3, random_state=42\n",
    ")\n"
   ]
  },
  {
   "cell_type": "markdown",
   "id": "0941afed",
   "metadata": {},
   "source": [
    "## Gaussian Naive Bayes\n",
    "### Gaussian Naive Bayes is used when features follow a Gaussian distribution (common for continuous data)."
   ]
  },
  {
   "cell_type": "code",
   "execution_count": 5,
   "id": "5e3a79bd",
   "metadata": {},
   "outputs": [
    {
     "name": "stdout",
     "output_type": "stream",
     "text": [
      "Gaussian Naive Bayes:\n",
      "Confusion Matrix:\n",
      "[[ 8  3]\n",
      " [ 2 17]]\n",
      "Accuracy: 0.8333333333333334\n",
      "Classification Report:\n",
      "              precision    recall  f1-score   support\n",
      "\n",
      "           0       0.80      0.73      0.76        11\n",
      "           1       0.85      0.89      0.87        19\n",
      "\n",
      "    accuracy                           0.83        30\n",
      "   macro avg       0.82      0.81      0.82        30\n",
      "weighted avg       0.83      0.83      0.83        30\n",
      "\n"
     ]
    }
   ],
   "source": [
    "gnb = GaussianNB()\n",
    "gnb.fit(X_train, y_train)\n",
    "y_pred = gnb.predict(X_test)\n",
    "\n",
    "print(\"Gaussian Naive Bayes:\")\n",
    "print(\"Confusion Matrix:\")\n",
    "print(confusion_matrix(y_test, y_pred))\n",
    "print(\"Accuracy:\", accuracy_score(y_test, y_pred))\n",
    "print(\"Classification Report:\")\n",
    "print(classification_report(y_test, y_pred))\n"
   ]
  },
  {
   "cell_type": "markdown",
   "id": "8ce07be2",
   "metadata": {},
   "source": [
    "## Multinomial Naive Bayes\n",
    "### Multinomial Naive Bayes is typically used for categorical or count data (e.g., word counts)."
   ]
  },
  {
   "cell_type": "code",
   "execution_count": 6,
   "id": "890f4338",
   "metadata": {},
   "outputs": [
    {
     "name": "stdout",
     "output_type": "stream",
     "text": [
      "\n",
      "Multinomial Naive Bayes:\n",
      "Confusion Matrix:\n",
      "[[11  0]\n",
      " [19  0]]\n",
      "Accuracy: 0.36666666666666664\n",
      "Classification Report:\n",
      "              precision    recall  f1-score   support\n",
      "\n",
      "           0       0.37      1.00      0.54        11\n",
      "           1       0.00      0.00      0.00        19\n",
      "\n",
      "    accuracy                           0.37        30\n",
      "   macro avg       0.18      0.50      0.27        30\n",
      "weighted avg       0.13      0.37      0.20        30\n",
      "\n"
     ]
    },
    {
     "name": "stderr",
     "output_type": "stream",
     "text": [
      "D:\\Anaconda\\lib\\site-packages\\sklearn\\metrics\\_classification.py:1318: UndefinedMetricWarning: Precision and F-score are ill-defined and being set to 0.0 in labels with no predicted samples. Use `zero_division` parameter to control this behavior.\n",
      "  _warn_prf(average, modifier, msg_start, len(result))\n",
      "D:\\Anaconda\\lib\\site-packages\\sklearn\\metrics\\_classification.py:1318: UndefinedMetricWarning: Precision and F-score are ill-defined and being set to 0.0 in labels with no predicted samples. Use `zero_division` parameter to control this behavior.\n",
      "  _warn_prf(average, modifier, msg_start, len(result))\n",
      "D:\\Anaconda\\lib\\site-packages\\sklearn\\metrics\\_classification.py:1318: UndefinedMetricWarning: Precision and F-score are ill-defined and being set to 0.0 in labels with no predicted samples. Use `zero_division` parameter to control this behavior.\n",
      "  _warn_prf(average, modifier, msg_start, len(result))\n"
     ]
    }
   ],
   "source": [
    "mnb = MultinomialNB()\n",
    "# Only select categorical or non-negative features\n",
    "X_train_multinomial = X_train[[\"Feature2\"]]\n",
    "X_test_multinomial = X_test[[\"Feature2\"]]\n",
    "mnb.fit(X_train_multinomial, y_train)\n",
    "y_pred = mnb.predict(X_test_multinomial)\n",
    "\n",
    "print(\"\\nMultinomial Naive Bayes:\")\n",
    "print(\"Confusion Matrix:\")\n",
    "print(confusion_matrix(y_test, y_pred))\n",
    "print(\"Accuracy:\", accuracy_score(y_test, y_pred))\n",
    "print(\"Classification Report:\")\n",
    "print(classification_report(y_test, y_pred))\n"
   ]
  },
  {
   "cell_type": "markdown",
   "id": "1daa7514",
   "metadata": {},
   "source": [
    "## Bernoulli Naive Bayes\n",
    "### Bernoulli Naive Bayes is used for binary data."
   ]
  },
  {
   "cell_type": "code",
   "execution_count": 8,
   "id": "04856e98",
   "metadata": {},
   "outputs": [
    {
     "name": "stdout",
     "output_type": "stream",
     "text": [
      "\n",
      "Bernoulli Naive Bayes:\n",
      "Confusion Matrix:\n",
      "[[ 8  3]\n",
      " [ 2 17]]\n",
      "Accuracy: 0.8333333333333334\n",
      "Classification Report:\n",
      "              precision    recall  f1-score   support\n",
      "\n",
      "           0       0.80      0.73      0.76        11\n",
      "           1       0.85      0.89      0.87        19\n",
      "\n",
      "    accuracy                           0.83        30\n",
      "   macro avg       0.82      0.81      0.82        30\n",
      "weighted avg       0.83      0.83      0.83        30\n",
      "\n"
     ]
    }
   ],
   "source": [
    "bnb = BernoulliNB()\n",
    "# Only select binary features\n",
    "X_train_bernoulli = X_train[[\"Feature3\"]]\n",
    "X_test_bernoulli = X_test[[\"Feature3\"]]\n",
    "bnb.fit(X_train_bernoulli, y_train)\n",
    "y_pred = bnb.predict(X_test_bernoulli)\n",
    "\n",
    "print(\"\\nBernoulli Naive Bayes:\")\n",
    "print(\"Confusion Matrix:\")\n",
    "print(confusion_matrix(y_test, y_pred))\n",
    "print(\"Accuracy:\", accuracy_score(y_test, y_pred))\n",
    "print(\"Classification Report:\")\n",
    "print(classification_report(y_test, y_pred))\n"
   ]
  },
  {
   "cell_type": "markdown",
   "id": "3c43c404",
   "metadata": {},
   "source": [
    "## Application on Spam Detection"
   ]
  },
  {
   "cell_type": "code",
   "execution_count": 9,
   "id": "d2295139",
   "metadata": {},
   "outputs": [],
   "source": [
    "from sklearn.datasets import fetch_20newsgroups\n",
    "from sklearn.feature_extraction.text import CountVectorizer\n",
    "from sklearn.pipeline import make_pipeline\n",
    "\n",
    "# Fetch dataset\n",
    "data = fetch_20newsgroups(subset='train', categories=['sci.space', 'rec.sport.hockey'], shuffle=True, random_state=42)"
   ]
  },
  {
   "cell_type": "code",
   "execution_count": 10,
   "id": "db23eb7c",
   "metadata": {},
   "outputs": [],
   "source": [
    "# Use a pipeline to vectorize the text and then apply MultinomialNB\n",
    "pipeline = make_pipeline(CountVectorizer(), MultinomialNB())\n"
   ]
  },
  {
   "cell_type": "code",
   "execution_count": 11,
   "id": "d6bd9998",
   "metadata": {},
   "outputs": [],
   "source": [
    "X_train_text, X_test_text, y_train_text, y_test_text = train_test_split(\n",
    "    data.data, data.target, test_size=0.3, random_state=42\n",
    ")"
   ]
  },
  {
   "cell_type": "code",
   "execution_count": 12,
   "id": "ca6e4c99",
   "metadata": {},
   "outputs": [],
   "source": [
    "pipeline.fit(X_train_text, y_train_text)\n",
    "y_pred_text = pipeline.predict(X_test_text)"
   ]
  },
  {
   "cell_type": "code",
   "execution_count": 13,
   "id": "637069e3",
   "metadata": {},
   "outputs": [
    {
     "name": "stdout",
     "output_type": "stream",
     "text": [
      "\n",
      "Spam Detection with Multinomial Naive Bayes:\n",
      "Confusion Matrix:\n",
      "[[185   4]\n",
      " [  1 168]]\n",
      "Accuracy: 0.9860335195530726\n",
      "Classification Report:\n",
      "                  precision    recall  f1-score   support\n",
      "\n",
      "rec.sport.hockey       0.99      0.98      0.99       189\n",
      "       sci.space       0.98      0.99      0.99       169\n",
      "\n",
      "        accuracy                           0.99       358\n",
      "       macro avg       0.99      0.99      0.99       358\n",
      "    weighted avg       0.99      0.99      0.99       358\n",
      "\n"
     ]
    }
   ],
   "source": [
    "print(\"\\nSpam Detection with Multinomial Naive Bayes:\")\n",
    "print(\"Confusion Matrix:\")\n",
    "print(confusion_matrix(y_test_text, y_pred_text))\n",
    "print(\"Accuracy:\", accuracy_score(y_test_text, y_pred_text))\n",
    "print(\"Classification Report:\")\n",
    "print(classification_report(y_test_text, y_pred_text, target_names=data.target_names))"
   ]
  },
  {
   "cell_type": "code",
   "execution_count": null,
   "id": "10fa2b64",
   "metadata": {},
   "outputs": [],
   "source": []
  }
 ],
 "metadata": {
  "kernelspec": {
   "display_name": "Python 3 (ipykernel)",
   "language": "python",
   "name": "python3"
  },
  "language_info": {
   "codemirror_mode": {
    "name": "ipython",
    "version": 3
   },
   "file_extension": ".py",
   "mimetype": "text/x-python",
   "name": "python",
   "nbconvert_exporter": "python",
   "pygments_lexer": "ipython3",
   "version": "3.9.12"
  }
 },
 "nbformat": 4,
 "nbformat_minor": 5
}
